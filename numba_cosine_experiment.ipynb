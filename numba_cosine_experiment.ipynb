{
 "cells": [
  {
   "cell_type": "code",
   "execution_count": 1,
   "metadata": {},
   "outputs": [],
   "source": [
    "import numpy as np"
   ]
  },
  {
   "cell_type": "code",
   "execution_count": 2,
   "metadata": {},
   "outputs": [
    {
     "data": {
      "text/plain": [
       "array([0.02536529, 0.36591108, 0.27762429, 0.57879049, 0.34757334,\n",
       "       0.08771619, 0.02650825, 0.60794341, 0.12020713, 0.32111002,\n",
       "       0.91362644, 0.70598231, 0.55760803, 0.84728605, 0.88406277,\n",
       "       0.99560176, 0.10799214, 0.37261525, 0.5182915 , 0.03504749,\n",
       "       0.93160516, 0.76353178, 0.52952032, 0.59841341, 0.63024885,\n",
       "       0.99062843, 0.4844049 , 0.77348547, 0.30632298, 0.03985527,\n",
       "       0.76504653, 0.95904927, 0.26591333, 0.33913343, 0.28477829,\n",
       "       0.19102393, 0.76597137, 0.96353541, 0.6439285 , 0.58017942,\n",
       "       0.09977083, 0.59553754, 0.21074075, 0.35293145, 0.24831856,\n",
       "       0.43571449, 0.6867541 , 0.89621959, 0.2646482 , 0.27655879])"
      ]
     },
     "execution_count": 2,
     "metadata": {},
     "output_type": "execute_result"
    }
   ],
   "source": [
    "u = np.random.rand(50)\n",
    "u"
   ]
  },
  {
   "cell_type": "code",
   "execution_count": 3,
   "metadata": {},
   "outputs": [
    {
     "data": {
      "text/plain": [
       "array([0.89954486, 0.19179589, 0.4340532 , 0.34856112, 0.3702718 ,\n",
       "       0.97277613, 0.37841541, 0.05609352, 0.77778566, 0.18292023,\n",
       "       0.58755274, 0.4668125 , 0.67641142, 0.91429668, 0.32525693,\n",
       "       0.96403027, 0.51954422, 0.7107494 , 0.44671126, 0.47383748,\n",
       "       0.20904997, 0.19192929, 0.64531799, 0.07762585, 0.95124978,\n",
       "       0.74910738, 0.88214202, 0.33093959, 0.05796411, 0.62862322,\n",
       "       0.04032583, 0.91984862, 0.78567259, 0.86104627, 0.07621077,\n",
       "       0.59206186, 0.00319381, 0.76091503, 0.74659651, 0.44265498,\n",
       "       0.2489348 , 0.33713118, 0.93783002, 0.6471297 , 0.96481888,\n",
       "       0.19428512, 0.05665224, 0.53444035, 0.64215508, 0.91661758])"
      ]
     },
     "execution_count": 3,
     "metadata": {},
     "output_type": "execute_result"
    }
   ],
   "source": [
    "v = np.random.rand(50)\n",
    "v"
   ]
  },
  {
   "cell_type": "code",
   "execution_count": 4,
   "metadata": {},
   "outputs": [],
   "source": [
    "def cosine_similarity(u:np.ndarray, v:np.ndarray):\n",
    "    assert(u.shape[0] == v.shape[0])\n",
    "    uv = 0\n",
    "    uu = 0\n",
    "    vv = 0\n",
    "    for i in range(u.shape[0]):\n",
    "        uv += u[i]*v[i]\n",
    "        uu += u[i]*u[i]\n",
    "        vv += v[i]*v[i]\n",
    "    cos_theta = 1\n",
    "    if uu!=0 and vv!=0:\n",
    "        cos_theta = uv/np.sqrt(uu*vv)\n",
    "    return cos_theta"
   ]
  },
  {
   "cell_type": "code",
   "execution_count": 5,
   "metadata": {},
   "outputs": [
    {
     "data": {
      "text/plain": [
       "0.7166656198266452"
      ]
     },
     "execution_count": 5,
     "metadata": {},
     "output_type": "execute_result"
    }
   ],
   "source": [
    "cosine_similarity(u, v)"
   ]
  },
  {
   "cell_type": "code",
   "execution_count": 6,
   "metadata": {},
   "outputs": [],
   "source": [
    "from numba import jit\n",
    "\n",
    "@jit(nopython=True)\n",
    "def cosine_similarity_numba(u:np.ndarray, v:np.ndarray):\n",
    "    assert(u.shape[0] == v.shape[0])\n",
    "    uv = 0\n",
    "    uu = 0\n",
    "    vv = 0\n",
    "    for i in range(u.shape[0]):\n",
    "        uv += u[i]*v[i]\n",
    "        uu += u[i]*u[i]\n",
    "        vv += v[i]*v[i]\n",
    "    cos_theta = 1\n",
    "    if uu!=0 and vv!=0:\n",
    "        cos_theta = uv/np.sqrt(uu*vv)\n",
    "    return cos_theta"
   ]
  },
  {
   "cell_type": "code",
   "execution_count": 7,
   "metadata": {},
   "outputs": [
    {
     "data": {
      "text/plain": [
       "0.7166656198266452"
      ]
     },
     "execution_count": 7,
     "metadata": {},
     "output_type": "execute_result"
    }
   ],
   "source": [
    "cosine_similarity_numba(u, v)"
   ]
  },
  {
   "cell_type": "code",
   "execution_count": 8,
   "metadata": {},
   "outputs": [],
   "source": [
    "k = 10 # Change this value and run the below cells to experiment with different number of computations."
   ]
  },
  {
   "cell_type": "code",
   "execution_count": 9,
   "metadata": {},
   "outputs": [
    {
     "name": "stdout",
     "output_type": "stream",
     "text": [
      "839 µs ± 10.6 µs per loop (mean ± std. dev. of 7 runs, 1000 loops each)\n"
     ]
    }
   ],
   "source": [
    "%%timeit\n",
    "for i in range(k):\n",
    "    cosine_similarity(u, v)"
   ]
  },
  {
   "cell_type": "code",
   "execution_count": 10,
   "metadata": {},
   "outputs": [
    {
     "name": "stdout",
     "output_type": "stream",
     "text": [
      "6.98 µs ± 68.7 ns per loop (mean ± std. dev. of 7 runs, 100000 loops each)\n"
     ]
    }
   ],
   "source": [
    "%%timeit\n",
    "for i in range(k):\n",
    "    cosine_similarity_numba(u, v)"
   ]
  },
  {
   "cell_type": "code",
   "execution_count": null,
   "metadata": {},
   "outputs": [],
   "source": []
  }
 ],
 "metadata": {
  "kernelspec": {
   "display_name": "Python 3",
   "language": "python",
   "name": "python3"
  },
  "language_info": {
   "codemirror_mode": {
    "name": "ipython",
    "version": 3
   },
   "file_extension": ".py",
   "mimetype": "text/x-python",
   "name": "python",
   "nbconvert_exporter": "python",
   "pygments_lexer": "ipython3",
   "version": "3.6.9"
  }
 },
 "nbformat": 4,
 "nbformat_minor": 2
}
